{
  "nbformat": 4,
  "nbformat_minor": 0,
  "metadata": {
    "colab": {
      "provenance": [],
      "include_colab_link": true
    },
    "kernelspec": {
      "name": "python3",
      "display_name": "Python 3"
    },
    "language_info": {
      "name": "python"
    }
  },
  "cells": [
    {
      "cell_type": "markdown",
      "metadata": {
        "id": "view-in-github",
        "colab_type": "text"
      },
      "source": [
        "<a href=\"https://colab.research.google.com/github/SaraF-lab/a/blob/main/Deuteron.ipynb\" target=\"_parent\"><img src=\"https://colab.research.google.com/assets/colab-badge.svg\" alt=\"Open In Colab\"/></a>"
      ]
    },
    {
      "cell_type": "code",
      "execution_count": 62,
      "metadata": {
        "colab": {
          "base_uri": "https://localhost:8080/",
          "height": 312
        },
        "id": "kPe27kuSUilp",
        "outputId": "0ac46f01-1ee8-4cc3-f3c8-b32ec247f83b"
      },
      "outputs": [
        {
          "output_type": "stream",
          "name": "stdout",
          "text": [
            "8000.0\n"
          ]
        },
        {
          "output_type": "display_data",
          "data": {
            "text/plain": [
              "<Figure size 432x288 with 1 Axes>"
            ],
            "image/png": "[encoded data removed]"
          },
          "metadata": {
            "needs_background": "light"
          }
        }
      ],
      "source": [
        "from numpy.matrixlib.defmatrix import N\n",
        "import matplotlib\n",
        "import matplotlib.pyplot as plt \n",
        "import numpy as np \n",
        "\n",
        "#Se definen las constantes\n",
        "hbar = 1\n",
        "m = 1\n",
        "c = 2*m/hbar\n",
        "pot1 = 1\n",
        "E = -2.2\n",
        "r = 1\n",
        "l = 1\n",
        "\n",
        "xi1 = 2.0\n",
        "xi2 = 10.0\n",
        "xm = 6.0\n",
        "h = 0.0005\n",
        "a = 2.0\n",
        "\n",
        "\n",
        "# Cantidad de datos\n",
        "\n",
        "n1 = int(np.abs((xm-xi1)/h))\n",
        "n2 = int(np.abs((xm-xi2)/h))\n",
        "\n",
        "#Arreglos y condiciones iniciales\n",
        "\n",
        "x1 = np.zeros(n1+2)\n",
        "x1[0] = xi1\n",
        "x2 = np.zeros(n2+2)\n",
        "x2[0] = xi2\n",
        "du2 = np.zeros(n1+2)\n",
        "du = np.zeros(n1+2)\n",
        "du[0] = 0.1\n",
        "u = np.zeros(n1+2)\n",
        "u[0] = 0\n",
        "dp2 = np.zeros(n2+2)\n",
        "dp = np.zeros(n2+2)\n",
        "dp[0] = 0\n",
        "p = np.zeros(n2+2)\n",
        "p[0] = 0.1\n",
        "potenciala = np.zeros(n1+2)\n",
        "potencialb = np.zeros(n2+2)\n",
        "\n",
        "#Potencial\n",
        "\n",
        "for i in range(n1+1):\n",
        "  x1[i+1] = x1[i] + h\n",
        "  x2[i+1] = x2[i] - h\n",
        "\n",
        "for i in range(n1+2):\n",
        "  potenciala[i] = -1*np.exp(-1*(x1[i])/a)\n",
        "\n",
        "for i in range(n2+2):\n",
        "  potencialb[i] = -1*np.exp(-1*(x2[i])/a)\n",
        "\n",
        "\n",
        "k = 2*m/(hbar**2)\n",
        "\n",
        "#Gráfica del potencial\n",
        "plt.figure()\n",
        "plt.plot(x1,potenciala)\n",
        "plt.plot(x2,potencialb)\n",
        "plt.xlabel(r\"x\")\n",
        "plt.ylabel(r\"$V(x)$\")\n",
        "plt.title(r\"Potencial\")\n",
        "plt.savefig(\"Potencial\")\n",
        "\n"
      ]
    },
    {
      "cell_type": "code",
      "source": [
        "#RK4\n",
        "\n",
        "f=0.00001\n",
        "\n",
        "for i in range(n1+1): #Por derecha\n",
        "\n",
        "  du2[i] = k*(f*np.exp(-1*(x1[i])/a) -E)*du[i]\n",
        "\n",
        "  k1 = k*(f*np.exp(-1*(x1[i])/a)-E)*du[i]\n",
        "  k2 = k*(f*np.exp(-1*(x1[i]+0.5*h)/a)-E)*(du[i]+(0.5)*(k1)*(h))\n",
        "  k3 = k*(f*np.exp(-1*(x1[i]+0.5*h)/a)-E)*(du[i]+(0.5)*(k2)*(h))\n",
        "  k4 = k*(f*np.exp(-1*(x1[i]+h)/a))*(du[i]+k3*h)\n",
        "\n",
        "  du[i+1] = du[i]+(h/6*(k1+2*k2+2*k3+k4))\n",
        "\n",
        "  m1 = k*(f*np.exp(-1*(x1[i])/a)-E)*u[i]\n",
        "  m2 = k*(f*np.exp(-1*(x1[i]+0.5*h)/a)-E)*(u[i]+(0.5)*(m1)*(h))\n",
        "  m3 = k*((f*np.exp(-1*(x1[i]+0.5*h)/a)-E))*(u[i]+(0.5)*(m2)*(h))\n",
        "  m4 = k*(f*np.exp(-1*(x1[i]+h)/a))*(u[i]+k3*h)\n",
        "\n",
        "  u[i+1]=u[i]+h/6*(m1+2*m2+2*m3+m4)\n",
        "\n",
        "\n",
        "for i in range(n2+1): #Por izquierda\n",
        "\n",
        "  dp2[i] = k*(f*np.exp(-1*(x2[i])/a) -E)*p[i]\n",
        "\n",
        "  l1 = k*(f*np.exp(-1*(x2[i])/a)-E)*dp[i]\n",
        "  l2 = k*(f*np.exp(-1*(x2[i]+0.5*h)/a)-E)*(dp[i]+(0.5)*(l1)*(h))\n",
        "  l3 = k*(f*np.exp(-1*(x2[i]+0.5*h)/a)-E)*(dp[i]+(0.5)*(l2)*(h))\n",
        "  l4 = k*(f*np.exp(-1*(x2[i]+h)/a))*(dp[i]+k3*h)\n",
        "\n",
        "  dp[i+1] = dp[i]+(h/6*(l1+2*l2+2*l3+l4))\n",
        "\n",
        "  s1 = k*((f*np.exp(-1*(x2[i])/a)-E)*p[i])\n",
        "  s2 = k*(f*np.exp(-1*(x2[i]+0.5*h)/a)-E)*(p[i]+(0.5)*(s1)*(h))\n",
        "  s3 = k*(f*np.exp(-1*(x2[i]+0.5*h)/a)-E)*(p[i]+(0.5)*(s2)*(h))\n",
        "  s4 = k*(f*np.exp(-1*(x2[i]+h)/a))*(p[i]+k3*h)\n",
        "\n",
        "  p[i+1]= p[i]+h/6*(s1+2*s2+2*s3+s4)\n",
        "\n",
        "#Gráfica de las derivadas\n",
        "\n",
        "plt.figure()\n",
        "plt.plot(x1,(u/(10**(10))),label='Izquierda a derecha')\n",
        "plt.plot(x2,p/(10**(18.33)),label='Derecha a izquierda')\n",
        "plt.xlabel(r\"x\")\n",
        "plt.ylabel(r\"$\\psi'(x)$\")\n",
        "plt.title(r\"Derivadas por derecha e izquierda\")\n",
        "plt.legend(shadow=True)\n",
        "plt.savefig(\"devs2\")\n",
        "plt.show()\n",
        "print(x1,x2)"
      ],
      "metadata": {
        "colab": {
          "base_uri": "https://localhost:8080/",
          "height": 312
        },
        "id": "x-G_XvWzJfvk",
        "outputId": "29dbb895-6b46-4e9f-a306-7edf2c70fd89"
      },
      "execution_count": 64,
      "outputs": [
        {
          "output_type": "display_data",
          "data": {
            "text/plain": [
              "<Figure size 432x288 with 1 Axes>"
            ],
            "image/png": "[encoded data removed]"
          },
          "metadata": {
            "needs_background": "light"
          }
        },
        {
          "output_type": "stream",
          "name": "stdout",
          "text": [
            "[2.     2.0005 2.001  ... 5.9995 6.     6.0005] [10.      9.9995  9.999  ...  6.0005  6.      5.9995]\n"
          ]
        }
      ]
    },
    {
      "cell_type": "code",
      "source": [],
      "metadata": {
        "id": "opgziLM2MVfC"
      },
      "execution_count": 60,
      "outputs": []
    }
  ]
}